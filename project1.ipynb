{
 "cells": [
  {
   "cell_type": "markdown",
   "id": "1c6f9d6c",
   "metadata": {},
   "source": [
    "#  Project 1: Airline Delay Analysis"
   ]
  },
  {
   "cell_type": "markdown",
   "id": "1a198ecb",
   "metadata": {},
   "source": [
    "## Introduction\n",
    "\n",
    "This project analyzes the arrival delays of two airlines across five destinations. \n",
    "The dataset contains delay times for **Airline A** and **Airline B** at each destination. "
   ]
  },
  {
   "cell_type": "markdown",
   "id": "5aaab45c",
   "metadata": {},
   "source": [
    "## Data Loading\n",
    "\n",
    "I began by loading the data from the CSV file using the pandas library. "
   ]
  },
  {
   "cell_type": "code",
   "execution_count": 1,
   "id": "65c0e18d",
   "metadata": {},
   "outputs": [
    {
     "name": "stdout",
     "output_type": "stream",
     "text": [
      "   Destination  Airline A Delay (mins)  Airline B Delay (mins)\n",
      "0     New York                      12                       7\n",
      "1  Los Angeles                       5                      -2\n",
      "2      Chicago                      -3                      15\n",
      "3      Houston                       8                       3\n",
      "4      Phoenix                       4                      -1\n"
     ]
    }
   ],
   "source": [
    "import pandas as pd\n",
    "\n",
    "df = pd.read_csv('C:\\\\Users\\\\The King\\Desktop\\\\FALL 2024\\\\IS 362\\\\Project_1\\\\airline_delays.csv')\n",
    "\n",
    "print(df)"
   ]
  },
  {
   "cell_type": "markdown",
   "id": "88442834",
   "metadata": {},
   "source": [
    "## Data Preview\n",
    "\n",
    "The dataset contains the following columns:\n",
    "- **Destination**: The city where the flight is arriving.\n",
    "- **Airline A Delay (mins)**: The delay in minutes for Airline A.\n",
    "- **Airline B Delay (mins)**: The delay in minutes for Airline B."
   ]
  },
  {
   "cell_type": "code",
   "execution_count": 2,
   "id": "3d42989e",
   "metadata": {},
   "outputs": [
    {
     "data": {
      "text/html": [
       "<div>\n",
       "<style scoped>\n",
       "    .dataframe tbody tr th:only-of-type {\n",
       "        vertical-align: middle;\n",
       "    }\n",
       "\n",
       "    .dataframe tbody tr th {\n",
       "        vertical-align: top;\n",
       "    }\n",
       "\n",
       "    .dataframe thead th {\n",
       "        text-align: right;\n",
       "    }\n",
       "</style>\n",
       "<table border=\"1\" class=\"dataframe\">\n",
       "  <thead>\n",
       "    <tr style=\"text-align: right;\">\n",
       "      <th></th>\n",
       "      <th>Destination</th>\n",
       "      <th>Airline A Delay (mins)</th>\n",
       "      <th>Airline B Delay (mins)</th>\n",
       "    </tr>\n",
       "  </thead>\n",
       "  <tbody>\n",
       "    <tr>\n",
       "      <th>0</th>\n",
       "      <td>New York</td>\n",
       "      <td>12</td>\n",
       "      <td>7</td>\n",
       "    </tr>\n",
       "    <tr>\n",
       "      <th>1</th>\n",
       "      <td>Los Angeles</td>\n",
       "      <td>5</td>\n",
       "      <td>-2</td>\n",
       "    </tr>\n",
       "    <tr>\n",
       "      <th>2</th>\n",
       "      <td>Chicago</td>\n",
       "      <td>-3</td>\n",
       "      <td>15</td>\n",
       "    </tr>\n",
       "    <tr>\n",
       "      <th>3</th>\n",
       "      <td>Houston</td>\n",
       "      <td>8</td>\n",
       "      <td>3</td>\n",
       "    </tr>\n",
       "    <tr>\n",
       "      <th>4</th>\n",
       "      <td>Phoenix</td>\n",
       "      <td>4</td>\n",
       "      <td>-1</td>\n",
       "    </tr>\n",
       "  </tbody>\n",
       "</table>\n",
       "</div>"
      ],
      "text/plain": [
       "   Destination  Airline A Delay (mins)  Airline B Delay (mins)\n",
       "0     New York                      12                       7\n",
       "1  Los Angeles                       5                      -2\n",
       "2      Chicago                      -3                      15\n",
       "3      Houston                       8                       3\n",
       "4      Phoenix                       4                      -1"
      ]
     },
     "execution_count": 2,
     "metadata": {},
     "output_type": "execute_result"
    }
   ],
   "source": [
    "df.head()"
   ]
  },
  {
   "cell_type": "markdown",
   "id": "f4925060",
   "metadata": {},
   "source": [
    "## Data Analysis\n",
    "\n",
    "Now, I'll calculate the average delay for both airlines to compare their performances."
   ]
  },
  {
   "cell_type": "code",
   "execution_count": 3,
   "id": "5dbe97fb",
   "metadata": {},
   "outputs": [
    {
     "name": "stdout",
     "output_type": "stream",
     "text": [
      "Average delay for Airline A: 5.2 minutes\n",
      "Average delay for Airline B: 4.4 minutes\n"
     ]
    }
   ],
   "source": [
    "avg_delay_A = df['Airline A Delay (mins)'].mean()\n",
    "avg_delay_B = df['Airline B Delay (mins)'].mean()\n",
    "\n",
    "print(f\"Average delay for Airline A: {avg_delay_A} minutes\")\n",
    "print(f\"Average delay for Airline B: {avg_delay_B} minutes\")"
   ]
  },
  {
   "cell_type": "markdown",
   "id": "23a7a814",
   "metadata": {},
   "source": [
    "## Conclusion\n",
    "\n",
    "Based on my analysis, **Airline A** had an average delay of `5.2` minutes, while **Airline B** had an average delay of `4.4` minutes. \n",
    "\n",
    "In general, I observed that:\n",
    "- Airline A tends to have shorter delays compared to Airline B.\n",
    "- Airline B experienced significant delays in some destinations, particularly in **Chicago**."
   ]
  }
 ],
 "metadata": {
  "kernelspec": {
   "display_name": "Python 3 (ipykernel)",
   "language": "python",
   "name": "python3"
  },
  "language_info": {
   "codemirror_mode": {
    "name": "ipython",
    "version": 3
   },
   "file_extension": ".py",
   "mimetype": "text/x-python",
   "name": "python",
   "nbconvert_exporter": "python",
   "pygments_lexer": "ipython3",
   "version": "3.11.5"
  }
 },
 "nbformat": 4,
 "nbformat_minor": 5
}
